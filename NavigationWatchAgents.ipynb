{
 "cells": [
  {
   "cell_type": "markdown",
   "id": "better-diagram",
   "metadata": {},
   "source": [
    "# Deep Q-Learning - Banana Navigation - Watch Agents\n",
    "\n",
    "In this notebook you can watch how an untrained and a trained agent navigate. \n",
    "The training itself is done in `NavigationTraining.ipynb`. \n",
    "Here we will simply import the trained model which is stored in `checkpoint.pth`."
   ]
  },
  {
   "cell_type": "markdown",
   "id": "dated-chinese",
   "metadata": {},
   "source": [
    "## Imports and setup\n",
    "For details on imports and the environment setup see `NavigationTraining.ipynb`."
   ]
  },
  {
   "cell_type": "code",
   "execution_count": 12,
   "id": "cheap-species",
   "metadata": {},
   "outputs": [],
   "source": [
    "from unityagents import UnityEnvironment\n",
    "import numpy as np\n",
    "import torch\n",
    "\n",
    "from dqn_agent import Agent\n",
    "import model as dqn_model"
   ]
  },
  {
   "cell_type": "code",
   "execution_count": 18,
   "id": "british-nicholas",
   "metadata": {},
   "outputs": [],
   "source": [
    "# make sure the path to the Unity environment is set correctly in the line below\n",
    "env = UnityEnvironment(file_name=\"path/to/Banana_Windows_x86/Banana.exe\")"
   ]
  },
  {
   "cell_type": "code",
   "execution_count": 14,
   "id": "nasty-precipitation",
   "metadata": {},
   "outputs": [],
   "source": [
    "# get the default brain\n",
    "brain_name = env.brain_names[0]\n",
    "brain = env.brains[brain_name]\n",
    "\n",
    "# number of actions and states\n",
    "action_size = brain.vector_action_space_size\n",
    "state = env_info.vector_observations[0]\n",
    "state_size = len(state)"
   ]
  },
  {
   "cell_type": "markdown",
   "id": "aging-idaho",
   "metadata": {},
   "source": [
    "## Watch an untrained agent\n",
    "The agent takes random actions.\n",
    "\n",
    "The result should look like this:\n",
    "\n",
    "<img style=\"float: left;\" src=\"img/banana_random.gif\" width=\"400\"/>"
   ]
  },
  {
   "cell_type": "code",
   "execution_count": 8,
   "id": "weekly-preparation",
   "metadata": {},
   "outputs": [
    {
     "name": "stdout",
     "output_type": "stream",
     "text": [
      "Score: 2.0\n"
     ]
    }
   ],
   "source": [
    "env_info = env.reset(train_mode=False)[brain_name] # reset the environment\n",
    "\n",
    "state = env_info.vector_observations[0]            # get the current state\n",
    "\n",
    "score = 0                                          # initialize the score\n",
    "while True:\n",
    "    action = np.random.randint(action_size)        # select an action\n",
    "    env_info = env.step(action)[brain_name]        # send the action to the environment\n",
    "    next_state = env_info.vector_observations[0]   # get the next state\n",
    "    reward = env_info.rewards[0]                   # get the reward\n",
    "    done = env_info.local_done[0]                  # see if episode has finished\n",
    "    score += reward                                # update the score\n",
    "    state = next_state                             # roll over the state to next time step\n",
    "    if done:                                       # exit loop if episode finished\n",
    "        break\n",
    "        \n",
    "print(\"Score: {}\".format(score))"
   ]
  },
  {
   "cell_type": "markdown",
   "id": "thirty-smooth",
   "metadata": {},
   "source": [
    "## Watch a trained agent"
   ]
  },
  {
   "cell_type": "markdown",
   "id": "published-virginia",
   "metadata": {},
   "source": [
    "#### Create new agent and pass pretrained model to agent. \n",
    "\n",
    "Method `load_model_checkpoint(filepath)` reads the model from file and returns the model."
   ]
  },
  {
   "cell_type": "code",
   "execution_count": 16,
   "id": "desperate-translator",
   "metadata": {},
   "outputs": [
    {
     "name": "stdout",
     "output_type": "stream",
     "text": [
      "QNetwork(\n",
      "  (hidden_layers): ModuleList(\n",
      "    (0): Linear(in_features=37, out_features=512, bias=True)\n",
      "    (1): Linear(in_features=512, out_features=256, bias=True)\n",
      "    (2): Linear(in_features=256, out_features=256, bias=True)\n",
      "  )\n",
      "  (output): Linear(in_features=256, out_features=4, bias=True)\n",
      "  (dropout): Dropout(p=0.05, inplace=False)\n",
      ")\n"
     ]
    }
   ],
   "source": [
    "def load_model_checkpoint(filepath):\n",
    "    checkpoint = torch.load(filepath)\n",
    "    model = dqn_model.QNetwork(state_size=checkpoint['input_size'],\n",
    "                               action_size=checkpoint['output_size'],\n",
    "                               seed=0,\n",
    "                               hidden_sizes=checkpoint['hidden_layers'],\n",
    "                              )\n",
    "    model.load_state_dict(checkpoint['state_dict'])\n",
    "    \n",
    "    return model\n",
    "\n",
    "agent = Agent(state_size=state_size, action_size=action_size, seed=0)\n",
    "model = load_model_checkpoint('checkpoint.pth')\n",
    "agent.qnetwork_local = model\n",
    "print(model)"
   ]
  },
  {
   "cell_type": "markdown",
   "id": "general-guidance",
   "metadata": {},
   "source": [
    "#### Watch the trained agent by running the cell below.\n",
    "\n",
    "The result should look like this:\n",
    "\n",
    "<img style=\"float: left;\" src=\"img/banana_trained.gif\" width=\"400\"/>"
   ]
  },
  {
   "cell_type": "code",
   "execution_count": 17,
   "id": "secondary-longer",
   "metadata": {},
   "outputs": [
    {
     "name": "stdout",
     "output_type": "stream",
     "text": [
      "Score: 21.0\n"
     ]
    }
   ],
   "source": [
    "env_info = env.reset(train_mode=False)[brain_name] # reset the environment\n",
    "\n",
    "state = env_info.vector_observations[0]            # get the current state\n",
    "\n",
    "score = 0                                          # initialize the score\n",
    "while True:\n",
    "    action = np.int16(agent.act(state)).item()  # select an action\n",
    "    env_info = env.step(action)[brain_name]        # send the action to the environment\n",
    "    next_state = env_info.vector_observations[0]   # get the next state\n",
    "    reward = env_info.rewards[0]                   # get the reward\n",
    "    done = env_info.local_done[0]                  # see if episode has finished\n",
    "    score += reward                                # update the score\n",
    "    state = next_state                             # roll over the state to next time step\n",
    "    if done:                                       # exit loop if episode finished\n",
    "        break\n",
    "    \n",
    "print(\"Score: {}\".format(score))"
   ]
  },
  {
   "cell_type": "markdown",
   "id": "italian-detective",
   "metadata": {},
   "source": [
    "#### When done, close the environment."
   ]
  },
  {
   "cell_type": "code",
   "execution_count": 19,
   "id": "lyric-wedding",
   "metadata": {},
   "outputs": [],
   "source": [
    "env.close()"
   ]
  }
 ],
 "metadata": {
  "kernelspec": {
   "display_name": "drlnd",
   "language": "python",
   "name": "drlnd"
  },
  "language_info": {
   "codemirror_mode": {
    "name": "ipython",
    "version": 3
   },
   "file_extension": ".py",
   "mimetype": "text/x-python",
   "name": "python",
   "nbconvert_exporter": "python",
   "pygments_lexer": "ipython3",
   "version": "3.6.8"
  }
 },
 "nbformat": 4,
 "nbformat_minor": 5
}
